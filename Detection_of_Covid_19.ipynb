{
  "nbformat": 4,
  "nbformat_minor": 0,
  "metadata": {
    "kernelspec": {
      "display_name": "Python 3",
      "language": "python",
      "name": "python3"
    },
    "language_info": {
      "codemirror_mode": {
        "name": "ipython",
        "version": 3
      },
      "file_extension": ".py",
      "mimetype": "text/x-python",
      "name": "python",
      "nbconvert_exporter": "python",
      "pygments_lexer": "ipython3",
      "version": "3.7.3"
    },
    "colab": {
      "name": "Detection of Covid-19.ipynb",
      "provenance": [],
      "collapsed_sections": [],
      "toc_visible": true
    }
  },
  "cells": [
    {
      "cell_type": "markdown",
      "metadata": {
        "id": "t7KEEFwJjxeV",
        "colab_type": "text"
      },
      "source": [
        "# **Detection of Covid-19**"
      ]
    },
    {
      "cell_type": "code",
      "metadata": {
        "id": "i-QXuSdHm6fc",
        "colab_type": "code",
        "colab": {}
      },
      "source": [
        "import numpy as np\n",
        "import matplotlib.pyplot as plt\n",
        "import keras\n",
        "from keras.layers import *\n",
        "from keras.models import * \n",
        "from keras.preprocessing import image"
      ],
      "execution_count": null,
      "outputs": []
    },
    {
      "cell_type": "markdown",
      "metadata": {
        "id": "z0-zHfX8m6fl",
        "colab_type": "text"
      },
      "source": [
        "#  Model deployment"
      ]
    },
    {
      "cell_type": "code",
      "metadata": {
        "id": "ytcd2Oc0m6fm",
        "colab_type": "code",
        "colab": {}
      },
      "source": [
        "#getting Data\n",
        "from google.colab import drive\n",
        "drive.mount(\"/content/drive\")\n",
        "!unzip '/content/drive/My Drive/Val.zip'\n",
        "!unzip '/content/drive/My Drive/train'"
      ],
      "execution_count": null,
      "outputs": []
    },
    {
      "cell_type": "code",
      "metadata": {
        "id": "xuOiyPRNm6fq",
        "colab_type": "code",
        "colab": {}
      },
      "source": [
        "#Training model\n",
        "model = Sequential()\n",
        "model.add(Conv2D(32,kernel_size=(3,3),activation='relu',input_shape=(224,224,3)))\n",
        "model.add(Conv2D(128,(3,3),activation='relu'))\n",
        "model.add(MaxPooling2D(pool_size=(2,2)))\n",
        "model.add(Dropout(0.25))\n",
        "\n",
        "model.add(Conv2D(64,(3,3),activation='relu'))\n",
        "model.add(MaxPooling2D(pool_size=(2,2)))\n",
        "model.add(Dropout(0.25))\n",
        "\n",
        "model.add(Conv2D(128,(3,3),activation='relu'))\n",
        "model.add(MaxPooling2D(pool_size=(2,2)))\n",
        "model.add(Dropout(0.25))\n",
        "\n",
        "model.add(Flatten())\n",
        "model.add(Dense(64,activation='relu'))\n",
        "model.add(Dropout(0.5))\n",
        "model.add(Dense(1,activation='sigmoid'))\n",
        "\n",
        "model.compile(loss=keras.losses.binary_crossentropy,optimizer='adam',metrics=['accuracy'])"
      ],
      "execution_count": null,
      "outputs": []
    },
    {
      "cell_type": "code",
      "metadata": {
        "id": "4OGemtk8-bTX",
        "colab_type": "code",
        "colab": {}
      },
      "source": [
        "#Getting parameters\n",
        "model.summary()"
      ],
      "execution_count": null,
      "outputs": []
    },
    {
      "cell_type": "markdown",
      "metadata": {
        "id": "TZJPwlGEm6f0",
        "colab_type": "text"
      },
      "source": [
        "# Training data "
      ]
    },
    {
      "cell_type": "code",
      "metadata": {
        "id": "1goUSfIOm6f1",
        "colab_type": "code",
        "colab": {}
      },
      "source": [
        "#Moulding train images\n",
        "train_datagen = image.ImageDataGenerator(rescale = 1./255, shear_range = 0.2,zoom_range = 0.2, horizontal_flip = True)\n",
        "\n",
        "test_dataset = image.ImageDataGenerator(rescale=1./255)"
      ],
      "execution_count": null,
      "outputs": []
    },
    {
      "cell_type": "code",
      "metadata": {
        "id": "8SQeUvKt-lyd",
        "colab_type": "code",
        "colab": {}
      },
      "source": [
        "#Reshaping test and validation images \n",
        "train_generator = train_datagen.flow_from_directory(\n",
        "    '/content/Train',\n",
        "    target_size = (224,224),\n",
        "    batch_size = 32,\n",
        "    class_mode = 'binary')\n",
        "validation_generator = test_dataset.flow_from_directory(\n",
        "    '/content/Val',\n",
        "    target_size = (224,224),\n",
        "    batch_size = 32,\n",
        "    class_mode = 'binary')"
      ],
      "execution_count": null,
      "outputs": []
    },
    {
      "cell_type": "code",
      "metadata": {
        "id": "75YxOxQ_-rBh",
        "colab_type": "code",
        "colab": {}
      },
      "source": [
        "#Training the model\n",
        "hist_new = model.fit_generator(\n",
        "    train_generator,\n",
        "    steps_per_epoch=5,\n",
        "    epochs = 10,\n",
        "    validation_data = validation_generator,\n",
        "    validation_steps=2\n",
        ")"
      ],
      "execution_count": null,
      "outputs": []
    },
    {
      "cell_type": "code",
      "metadata": {
        "id": "gID1DYO8-vCK",
        "colab_type": "code",
        "colab": {}
      },
      "source": [
        "#Getting summary\n",
        "summary=hist_new.history\n",
        "print(summary)"
      ],
      "execution_count": null,
      "outputs": []
    },
    {
      "cell_type": "code",
      "metadata": {
        "id": "oJndSdl5m6gC",
        "colab_type": "code",
        "colab": {}
      },
      "source": [
        "model.save(\"covid.h5\")"
      ],
      "execution_count": null,
      "outputs": []
    },
    {
      "cell_type": "code",
      "metadata": {
        "id": "D0lX3AyK-25u",
        "colab_type": "code",
        "colab": {}
      },
      "source": [
        "model.evaluate_generator(train_generator)"
      ],
      "execution_count": null,
      "outputs": []
    },
    {
      "cell_type": "code",
      "metadata": {
        "id": "V5Nf0WvF-637",
        "colab_type": "code",
        "colab": {}
      },
      "source": [
        "print(model.evaluate_generator(validation_generator))"
      ],
      "execution_count": null,
      "outputs": []
    },
    {
      "cell_type": "markdown",
      "metadata": {
        "id": "xPXMrK39m6gN",
        "colab_type": "text"
      },
      "source": [
        "## Confusion Matrix"
      ]
    },
    {
      "cell_type": "code",
      "metadata": {
        "id": "m92vY_iy--_K",
        "colab_type": "code",
        "colab": {}
      },
      "source": [
        "import os\n",
        "train_generator.class_indices"
      ],
      "execution_count": null,
      "outputs": []
    },
    {
      "cell_type": "code",
      "metadata": {
        "id": "nGwbL-Q9m6gQ",
        "colab_type": "code",
        "colab": {}
      },
      "source": [
        "y_actual, y_test = [],[]"
      ],
      "execution_count": null,
      "outputs": []
    },
    {
      "cell_type": "code",
      "metadata": {
        "id": "pAMdAWtQ_Gd4",
        "colab_type": "code",
        "colab": {}
      },
      "source": [
        "for i in os.listdir(\"/content/Val/Normal/\"):\n",
        "    img=image.load_img(\"/content/Val/Normal/\"+i,target_size=(224,224))\n",
        "    img=image.img_to_array(img)\n",
        "    img=np.expand_dims(img,axis=0)\n",
        "    pred=model.predict_classes(img)\n",
        "    y_test.append(pred[0,0])\n",
        "    y_actual.append(1)"
      ],
      "execution_count": null,
      "outputs": []
    },
    {
      "cell_type": "code",
      "metadata": {
        "id": "x7KImg2am6gW",
        "colab_type": "code",
        "colab": {}
      },
      "source": [
        "for i in os.listdir(\"/content/Val/Covid/\"):\n",
        "    img=image.load_img(\"/content/Val/Covid/\"+i,target_size=(224,224))\n",
        "    img=image.img_to_array(img)\n",
        "    img=np.expand_dims(img,axis=0)\n",
        "    pred=model.predict_classes(img)\n",
        "    y_test.append(pred[0,0])\n",
        "    y_actual.append(0)"
      ],
      "execution_count": null,
      "outputs": []
    },
    {
      "cell_type": "code",
      "metadata": {
        "id": "pY4lUHMTm6gZ",
        "colab_type": "code",
        "colab": {}
      },
      "source": [
        "y_actual=np.array(y_actual)\n",
        "y_test=np.array(y_test)"
      ],
      "execution_count": null,
      "outputs": []
    },
    {
      "cell_type": "code",
      "metadata": {
        "id": "iL51YxQq_M-8",
        "colab_type": "code",
        "colab": {}
      },
      "source": [
        "from sklearn.metrics import confusion_matrix\n",
        "import seaborn as sns\n",
        "cn=confusion_matrix(y_actual,y_test)"
      ],
      "execution_count": null,
      "outputs": []
    },
    {
      "cell_type": "code",
      "metadata": {
        "id": "DlqMucY-_Qno",
        "colab_type": "code",
        "colab": {}
      },
      "source": [
        "sns.heatmap(cn,cmap=\"plasma\",annot=True) #0: Covid ; 1: Normal"
      ],
      "execution_count": null,
      "outputs": []
    }
  ]
}